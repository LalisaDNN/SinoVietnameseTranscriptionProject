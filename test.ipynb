{
 "cells": [
  {
   "cell_type": "code",
   "execution_count": 39,
   "metadata": {},
   "outputs": [],
   "source": [
    "import torch\n",
    "import torch.nn as nn\n",
    "from torch.utils.data import DataLoader, Dataset\n",
    "from transformers import BertTokenizer, BertModel\n",
    "from sklearn.metrics import recall_score, f1_score, precision_score\n",
    "from tqdm import tqdm\n",
    "import os\n",
    "from jiwer import wer\n",
    "import yaml\n",
    "import json "
   ]
  },
  {
   "cell_type": "code",
   "execution_count": 2,
   "metadata": {},
   "outputs": [],
   "source": [
    "####### Config #######\n",
    "config_path = \"conf_5\"\n",
    "config_file = os.path.join(config_path, \"config.yml\")\n",
    "with open(config_file,'r') as conf:\n",
    "    config = yaml.load(conf, Loader=yaml.SafeLoader)\n"
   ]
  },
  {
   "cell_type": "code",
   "execution_count": 3,
   "metadata": {},
   "outputs": [],
   "source": [
    "class AddNorm(nn.Module):\n",
    "    def __init__(self, norm_shape: int, dropout=0.2):\n",
    "        super().__init__()\n",
    "        self.dropout = nn.Dropout(dropout)\n",
    "        self.ln = nn.LayerNorm(norm_shape)\n",
    "\n",
    "    def forward(self, X, Y):\n",
    "        return self.ln(self.dropout(Y) + X)\n",
    "    \n",
    "class FeedForwardNetwork(nn.Module):\n",
    "    def __init__(self, input_dim: int, hidden_ff_dim: int, dropout=0.2):\n",
    "        super().__init__()\n",
    "        self.linear1 = nn.Linear(input_dim, hidden_ff_dim)\n",
    "        self.dropout = nn.Dropout(dropout)\n",
    "        self.relu1 = nn.ReLU()\n",
    "        self.linear2 = nn.Linear(hidden_ff_dim, input_dim)\n",
    "\n",
    "    def forward(self, x):\n",
    "        return self.linear2(self.dropout(self.relu1(self.linear1(x))))\n",
    "    \n",
    "class ShrinkNorm(nn.Module):\n",
    "    def __init__(self, input_dim: int, shrink_norm_hidden: int, output_dim: int, dropout=0.2):\n",
    "        super().__init__()\n",
    "        self.dropout = nn.Dropout(dropout)\n",
    "        self.linear1 = nn.Linear(input_dim, shrink_norm_hidden)\n",
    "        self.relu1 = nn.ReLU()\n",
    "        self.linear2 = nn.Linear(shrink_norm_hidden, output_dim)\n",
    "        self.ln = nn.LayerNorm(output_dim)\n",
    "\n",
    "    def forward(self, x):\n",
    "        return self.ln(self.linear2(self.dropout(self.relu1(self.linear1(x)))))\n",
    "    \n",
    "class SinoVietnameseTranslator(nn.Module):\n",
    "    def __init__(self, tokenizer, base_model, vocab, hidden_ff_dim=512, model_hidden_dim=512, \n",
    "                 large_hidden_classification_head_dim=256, small_hidden_classification_head_dim=128,\n",
    "                 shrink_norm_hidden=512, max_num_spellings=7, num_spelling_threshold=3, train_bert_param=True, dropout=0.2):\n",
    "        super(SinoVietnameseTranslator, self).__init__()\n",
    "        self.tokenizer = tokenizer\n",
    "        self.bert = base_model\n",
    "        self.vocab = vocab\n",
    "        self.max_num_spellings = max_num_spellings\n",
    "        \n",
    "        for param in self.bert.parameters():\n",
    "            param.requires_grad = train_bert_param\n",
    "        \n",
    "        self.shrink_norm = ShrinkNorm(self.bert.config.hidden_size,shrink_norm_hidden, model_hidden_dim, dropout)\n",
    "        self.feed_forward = FeedForwardNetwork(model_hidden_dim, hidden_ff_dim, dropout)\n",
    "        self.add_norm = AddNorm(model_hidden_dim, dropout)\n",
    "        \n",
    "        self.classification_heads = nn.ModuleDict()\n",
    "        for sino_word, viet_spellings in self.vocab.items():\n",
    "            if len(viet_spellings) > 1 and len(viet_spellings) <= num_spelling_threshold:\n",
    "                num_spellings = len(viet_spellings)\n",
    "                self.classification_heads[sino_word] = nn.Sequential(\n",
    "                    nn.Linear(model_hidden_dim, small_hidden_classification_head_dim),\n",
    "                    nn.ReLU(),\n",
    "                    nn.Dropout(dropout),\n",
    "                    nn.Linear(small_hidden_classification_head_dim, num_spellings),\n",
    "                    nn.Softmax(dim=-1)\n",
    "                )\n",
    "            elif len(viet_spellings) > num_spelling_threshold:\n",
    "                num_spellings = len(viet_spellings)\n",
    "                self.classification_heads[sino_word] = nn.Sequential(\n",
    "                    nn.Linear(model_hidden_dim, large_hidden_classification_head_dim),\n",
    "                    nn.ReLU(),\n",
    "                    nn.Dropout(dropout),\n",
    "                    nn.Linear(large_hidden_classification_head_dim, num_spellings),\n",
    "                    nn.Softmax(dim=-1)\n",
    "                )\n",
    "\n",
    "    def forward(self, input_ids, attention_mask=None):\n",
    "        outputs = self.bert(input_ids, attention_mask=attention_mask)\n",
    "        sequence_output = outputs.last_hidden_state\n",
    "        shrink_output = self.shrink_norm(sequence_output)\n",
    "        projected_output = self.add_norm(shrink_output, self.feed_forward(shrink_output))\n",
    "        \n",
    "        batch_size, max_len = input_ids.size()\n",
    "        predictions = torch.full((batch_size, max_len, self.max_num_spellings), -1.0, device=input_ids.device)\n",
    "        \n",
    "        for i in range(batch_size):\n",
    "            for j in range(max_len):\n",
    "                token_id = input_ids[i, j].item()\n",
    "                if token_id == self.tokenizer.pad_token_id:\n",
    "                    continue\n",
    "                    \n",
    "                sino_word = self.tokenizer.convert_ids_to_tokens(token_id)\n",
    "                \n",
    "                if sino_word in self.classification_heads:\n",
    "                    logits = self.classification_heads[sino_word](projected_output[i, j])\n",
    "                    predictions[i, j, :len(logits)] = logits\n",
    "                else:\n",
    "                    predictions[i, j, 0] = 1.0\n",
    "\n",
    "        return predictions\n",
    "    "
   ]
  },
  {
   "cell_type": "code",
   "execution_count": 4,
   "metadata": {},
   "outputs": [],
   "source": [
    "class SinoVietnameseDataset(Dataset):\n",
    "    def __init__(self, tokenizer, data, vocab, max_len=512):\n",
    "        self.data = data\n",
    "        self.tokenizer = tokenizer\n",
    "        self.vocab = vocab\n",
    "        self.max_len = max_len\n",
    "\n",
    "    def __len__(self):\n",
    "        return len(self.data)\n",
    "\n",
    "    def __getitem__(self, idx):\n",
    "        sino_sent, viet_sent = self.data[idx]\n",
    "        sino_tokens = self.tokenizer.encode(sino_sent, add_special_tokens=False, max_length=self.max_len, truncation=True)\n",
    "        viet_spellings = viet_sent.split()\n",
    "\n",
    "        input_ids = sino_tokens + [self.tokenizer.pad_token_id] * (self.max_len - len(sino_tokens))\n",
    "\n",
    "        labels = []\n",
    "        for i, sino_word_id in enumerate(sino_tokens):\n",
    "            sino_word = self.tokenizer.convert_ids_to_tokens(sino_word_id)\n",
    "            if sino_word in self.vocab:\n",
    "                viet_spellings_for_word = self.vocab[sino_word]\n",
    "                if len(viet_spellings_for_word) > 1:\n",
    "                    label = viet_spellings_for_word.index(viet_spellings[i])\n",
    "                else:\n",
    "                    label = -1\n",
    "            else:\n",
    "                label = -1\n",
    "            labels.append(label)\n",
    "\n",
    "        labels += [-1] * (self.max_len - len(labels))  # Padding\n",
    "        attention_mask = [1] * len(sino_tokens) + [0] * (self.max_len - len(sino_tokens))\n",
    "\n",
    "        return {\n",
    "            \"input_ids\": torch.tensor(input_ids),\n",
    "            \"labels\": torch.tensor(labels),\n",
    "            \"attention_mask\": torch.tensor(attention_mask),\n",
    "        }\n"
   ]
  },
  {
   "cell_type": "code",
   "execution_count": 5,
   "metadata": {},
   "outputs": [],
   "source": [
    "def load_data(data_file):\n",
    "    data = []\n",
    "    with open(data_file, 'r', encoding='utf-8') as f:\n",
    "        for line in f.readlines():\n",
    "            if ',' not in line:\n",
    "                continue\n",
    "            sino_sent, viet_sent = line.strip().split(',')\n",
    "            data.append((sino_sent, viet_sent))\n",
    "    return data\n",
    "\n",
    "test_data_path = \"data/test.txt\"\n",
    "test_data = load_data(test_data_path)"
   ]
  },
  {
   "cell_type": "code",
   "execution_count": 6,
   "metadata": {},
   "outputs": [],
   "source": [
    "with open('vocab/vocab.json', 'r') as vocab_file, open('vocab/sino_viet_words.json', 'r') as words_file:\n",
    "    base_vocab = json.load(vocab_file)\n",
    "    sino_viet_words = json.load(words_file)"
   ]
  },
  {
   "cell_type": "code",
   "execution_count": 7,
   "metadata": {},
   "outputs": [
    {
     "data": {
      "text/plain": [
       "Embedding(23683, 768)"
      ]
     },
     "execution_count": 7,
     "metadata": {},
     "output_type": "execute_result"
    }
   ],
   "source": [
    "# Model Config\n",
    "bert_model = config['model_config']['bert_model'] \n",
    "\n",
    "base_tokenizer = BertTokenizer.from_pretrained(bert_model)\n",
    "base_tokenizer.add_tokens(sino_viet_words)\n",
    "\n",
    "base_model = BertModel.from_pretrained(bert_model)\n",
    "base_model.resize_token_embeddings(len(base_tokenizer))"
   ]
  },
  {
   "cell_type": "code",
   "execution_count": 8,
   "metadata": {},
   "outputs": [
    {
     "name": "stdout",
     "output_type": "stream",
     "text": [
      "Test set: 17042\n",
      "Test batch num: 1066\n"
     ]
    }
   ],
   "source": [
    "# Data Config\n",
    "batch_size = config['data_config']['batch_size']\n",
    "max_len = config['data_config']['max_len']\n",
    "\n",
    "test_dataset = SinoVietnameseDataset(base_tokenizer, test_data, base_vocab, max_len)\n",
    "\n",
    "print(f\"Test set: {len(test_dataset)}\")\n",
    "\n",
    "test_loader = DataLoader(test_dataset, batch_size=batch_size, shuffle=False)\n",
    "\n",
    "print(f\"Test batch num: {len(test_loader)}\")"
   ]
  },
  {
   "cell_type": "code",
   "execution_count": 9,
   "metadata": {},
   "outputs": [
    {
     "name": "stdout",
     "output_type": "stream",
     "text": [
      "151.5M params.\n"
     ]
    }
   ],
   "source": [
    "# Model config\n",
    "hidden_ff_dim = config['model_config']['hidden_ff_dim']\n",
    "model_hidden_dim = config['model_config']['model_hidden_dim']\n",
    "shrink_norm_hidden = config['model_config']['shrink_norm_hidden']\n",
    "large_hidden_classification_head_dim = config['model_config']['large_hidden_classification_head_dim']\n",
    "small_hidden_classification_head_dim = config['model_config']['small_hidden_classification_head_dim']\n",
    "max_num_spellings = config['model_config']['max_num_spellings']\n",
    "num_spelling_threshold = config['model_config']['num_spelling_threshold']\n",
    "train_bert_param = config['model_config']['train_bert_param']\n",
    "dropout = config['model_config']['dropout']\n",
    "\n",
    "model = SinoVietnameseTranslator(base_tokenizer, base_model, base_vocab, hidden_ff_dim=hidden_ff_dim, \n",
    "                                model_hidden_dim=model_hidden_dim, shrink_norm_hidden=shrink_norm_hidden,\n",
    "                                large_hidden_classification_head_dim=large_hidden_classification_head_dim,\n",
    "                                small_hidden_classification_head_dim=small_hidden_classification_head_dim,\n",
    "                                max_num_spellings=max_num_spellings, train_bert_param=train_bert_param,\n",
    "                                num_spelling_threshold=num_spelling_threshold, dropout=dropout)\n",
    "\n",
    "num_param = sum([param.nelement() for param in model.parameters()]) / 1000000\n",
    "print(f\"{num_param:.1f}M params.\")"
   ]
  },
  {
   "cell_type": "code",
   "execution_count": 10,
   "metadata": {},
   "outputs": [],
   "source": [
    "pred_records = {}\n",
    "for sino_char, viet_readings in base_vocab.items():\n",
    "    if len(viet_readings) > 1:\n",
    "        pred_records[sino_char] = {'labels': [], 'preds': []}\n",
    "\n",
    "def decode_predictions(predictions, labels, input_ids, tokenizer, vocab):\n",
    "    predicted_sentences = []\n",
    "    ground_truth_sentences = []\n",
    "    sino_viet_sentences = []\n",
    "    for i in range(predictions.size(0)):\n",
    "        decoded_sentence = []\n",
    "        ground_truth = []\n",
    "        sino_viet_sentence = []\n",
    "        for j in range(predictions.size(1)):\n",
    "            token = input_ids[i, j].item()\n",
    "            if token == tokenizer.pad_token_id:\n",
    "                continue\n",
    "                \n",
    "            sino_word = tokenizer.convert_ids_to_tokens(token)\n",
    "            sino_viet_sentence.append(sino_word)\n",
    "\n",
    "            pred_index = predictions[i, j].item()\n",
    "            label_index = labels[i, j].item()\n",
    "\n",
    "            if len(vocab[sino_word]) == 1:\n",
    "                assert pred_index == 0, \"pred_index is not 0 in case of 1 spelling.\"\n",
    "                assert label_index == -1, \"label_index is not -1 in case of 1 spelling.\"\n",
    "\n",
    "                pred_viet_spelling = label_viet_spelling = vocab[sino_word][0]\n",
    "            else:\n",
    "                pred_records[sino_word]['labels'].append(label_index)\n",
    "                pred_records[sino_word]['preds'].append(pred_index)\n",
    "\n",
    "                if pred_index != label_index:\n",
    "                    pred_viet_spelling = f\"#{vocab[sino_word][pred_index]}#\"\n",
    "                    label_viet_spelling = f\"#{vocab[sino_word][label_index]}#\"\n",
    "                elif pred_index == label_index:\n",
    "                    pred_viet_spelling = label_viet_spelling = vocab[sino_word][label_index]\n",
    "                \n",
    "            decoded_sentence.append(pred_viet_spelling)\n",
    "            ground_truth.append(label_viet_spelling)\n",
    "\n",
    "        sino_viet_sentences.append(\"\".join(sino_viet_sentence))\n",
    "        predicted_sentences.append(\" \".join(decoded_sentence))\n",
    "        ground_truth_sentences.append(\" \".join(ground_truth))\n",
    "        \n",
    "    return sino_viet_sentences, ground_truth_sentences, predicted_sentences"
   ]
  },
  {
   "cell_type": "code",
   "execution_count": 11,
   "metadata": {},
   "outputs": [],
   "source": [
    "def save_test_results(test_accuracy, test_wer, all_source_sentences, \n",
    "                      all_ground_truths, all_predictions, test_results_dir):\n",
    "    test_results_file_dir = os.path.join(test_results_dir, 'test.txt')\n",
    "    with open(test_results_file_dir, 'w') as f:\n",
    "        f.write(f'Test accuracy: {test_accuracy}\\nTest WER: {test_wer}\\n')\n",
    "        f.write(\"SOURCE\\t||\\tGROUNDTRUTH\\t||\\tPREDICTION\\n\")\n",
    "        for i in range(len(all_source_sentences)):\n",
    "            f.write(f'{all_source_sentences[i]}\\t||\\t{all_ground_truths[i]}\\t||\\t{all_predictions[i]}\\n')\n",
    "\n",
    "    print(f\"Test results saved successfully into {test_results_file_dir}\")"
   ]
  },
  {
   "cell_type": "code",
   "execution_count": null,
   "metadata": {},
   "outputs": [],
   "source": [
    "# # add labels and preds of each character \n",
    "# pred_records = {}\n",
    "# for sino_char, viet_readings in base_vocab.items():\n",
    "#     if len(viet_readings) > 1:\n",
    "#         pred_records[sino_char] = {'labels': [], 'preds': []}\n",
    "\n",
    "# def update_pred_records(input_ids, labels, predictions):\n",
    "#     for i in range(predictions.size(0)):\n",
    "#         for j in range(predictions.size(1)):\n",
    "#             token = input_ids[i, j].item()\n",
    "#             if token == base_tokenizer.pad_token_id or labels[i, j].item() == -1:\n",
    "#                 continue\n",
    "\n",
    "#             sino_word = base_tokenizer.convert_ids_to_tokens(token)\n",
    "#             if sino_word in base_vocab:\n",
    "#                 if len(base_vocab[sino_word]) > 1:\n",
    "#                     pred_index = predictions[i, j].item()\n",
    "#                     label_index = labels[i, j].item()\n",
    "#                     pred_records[sino_word]['labels'].append(label_index)\n",
    "#                     pred_records[sino_word]['preds'].append(pred_index)"
   ]
  },
  {
   "cell_type": "code",
   "execution_count": 12,
   "metadata": {},
   "outputs": [],
   "source": [
    "def test(model, test_dataloader, model_load_path, config_folder_dir):\n",
    "    assert model_load_path != None, \"No model to load\"\n",
    "    device = torch.device(\"cuda:0\" if torch.cuda.is_available() else \"cpu\")\n",
    "    model.to(device)\n",
    "\n",
    "    checkpoint = torch.load(model_load_path)\n",
    "    model.load_state_dict(checkpoint['model_state_dict'])\n",
    "\n",
    "    tokenizer = model.tokenizer\n",
    "    vocab = model.vocab\n",
    "\n",
    "    test_results_dir = os.path.join(config_folder_dir, f\"test_results/\")\n",
    "    os.makedirs(test_results_dir, exist_ok=True)\n",
    "\n",
    "    model.eval()\n",
    "    correct_predictions = 0 # calculate accuracies over sino words that have multiple viet spellings only\n",
    "    total_predictions = 0\n",
    "    all_source_sentences = []\n",
    "    all_ground_truths = []\n",
    "    all_predictions = []\n",
    "    with torch.no_grad():\n",
    "        test_iterator = tqdm(test_dataloader, desc=\"Testing\", unit=\"batch\")\n",
    "        for batch in test_iterator:\n",
    "            input_ids = batch[\"input_ids\"].to(device)\n",
    "            attention_mask = batch[\"attention_mask\"].to(device)\n",
    "            labels = batch[\"labels\"].to(device)\n",
    "\n",
    "            outputs = model(input_ids, attention_mask=attention_mask)\n",
    "\n",
    "            predictions = torch.argmax(outputs, dim=-1)\n",
    "            mask = labels != -1\n",
    "            correct_predictions += (predictions[mask] == labels[mask]).sum().item()\n",
    "            total_predictions += mask.sum().item()\n",
    "            \n",
    "            batch_source_sentences, batch_ground_truths, batch_predictions = decode_predictions(predictions, \n",
    "                                                                            labels, input_ids, tokenizer, vocab)\n",
    "            all_predictions.extend(batch_predictions)\n",
    "            all_ground_truths.extend(batch_ground_truths)\n",
    "            all_source_sentences.extend(batch_source_sentences)\n",
    "\n",
    "        test_accuracy = correct_predictions / total_predictions if total_predictions > 0 else 0\n",
    "        test_wer = wer(all_ground_truths, all_predictions)\n",
    "        \n",
    "        save_test_results(test_accuracy, test_wer, all_source_sentences, \n",
    "                      all_ground_truths, all_predictions, test_results_dir)\n",
    "\n"
   ]
  },
  {
   "cell_type": "code",
   "execution_count": 13,
   "metadata": {},
   "outputs": [
    {
     "name": "stdout",
     "output_type": "stream",
     "text": [
      "conf_5\\running/saved_model/sivi_model_epoch_73.pt\n"
     ]
    },
    {
     "name": "stderr",
     "output_type": "stream",
     "text": [
      "Testing:   0%|          | 0/1066 [00:00<?, ?batch/s]c:\\Users\\ADMIN\\miniconda3\\envs\\dnn\\lib\\site-packages\\transformers\\models\\bert\\modeling_bert.py:435: UserWarning: 1Torch was not compiled with flash attention. (Triggered internally at ..\\aten\\src\\ATen\\native\\transformers\\cuda\\sdp_utils.cpp:455.)\n",
      "  attn_output = torch.nn.functional.scaled_dot_product_attention(\n",
      "Testing: 100%|██████████| 1066/1066 [05:30<00:00,  3.23batch/s]\n"
     ]
    },
    {
     "name": "stdout",
     "output_type": "stream",
     "text": [
      "Test results saved successfully into conf_5\\test_results/test.txt\n"
     ]
    }
   ],
   "source": [
    "model_load_path = None if config['training_config']['model_load_path'] == 'None' else config['training_config']['model_load_path']\n",
    "print((model_load_path))\n",
    "test(model, test_loader, model_load_path, config_path)"
   ]
  },
  {
   "cell_type": "code",
   "execution_count": 46,
   "metadata": {},
   "outputs": [],
   "source": [
    "def cal_f1_recall(labels, predictions):\n",
    "    precision = precision_score(labels, predictions, average=\"macro\")\n",
    "    recall = recall_score(labels, predictions, average=\"macro\")\n",
    "    f1 = f1_score(labels, predictions, average=\"macro\")\n",
    "    # print(precision)\n",
    "    # print(recall)\n",
    "    # print(f1)\n",
    "    return precision, recall, f1"
   ]
  },
  {
   "cell_type": "code",
   "execution_count": 36,
   "metadata": {},
   "outputs": [
    {
     "name": "stdout",
     "output_type": "stream",
     "text": [
      "<class 'list'>\n"
     ]
    }
   ],
   "source": [
    "print(type(pred_records[\"上\"][\"preds\"]))"
   ]
  },
  {
   "cell_type": "code",
   "execution_count": null,
   "metadata": {},
   "outputs": [],
   "source": [
    "pred_results = {}\n",
    "for sino_viet_char in pred_records:\n",
    "    labels = pred_records[sino_viet_char]['labels']\n",
    "    preds = pred_records[sino_viet_char]['preds']\n",
    "    precision, recall, f1 = cal_f1_recall(labels, preds)\n",
    "    pred_results[sino_viet_char] = {'num_readings': len(base_vocab[sino_viet_char]),'precision': precision, 'recall': recall, 'f1': f1}"
   ]
  },
  {
   "cell_type": "code",
   "execution_count": 45,
   "metadata": {},
   "outputs": [],
   "source": [
    "pred_records_dir = os.path.join(config_path, f\"test_results/\")\n",
    "os.makedirs(pred_records_dir, exist_ok=True)\n",
    "with open(f\"{pred_records_dir}/pred_records.json\", 'w', encoding=\"utf-8\") as pred_records_file:\n",
    "    json.dump(pred_records, pred_records_file, ensure_ascii=False, indent=4)"
   ]
  },
  {
   "cell_type": "code",
   "execution_count": 48,
   "metadata": {},
   "outputs": [],
   "source": [
    "pred_results_dir = os.path.join(config_path, f\"test_results/\")\n",
    "os.makedirs(pred_results_dir, exist_ok=True)\n",
    "with open(f\"{pred_results_dir}/pred_results.json\", 'w', encoding=\"utf-8\") as pred_results_file:\n",
    "    json.dump(pred_results, pred_results_file, ensure_ascii=False, indent=4)"
   ]
  }
 ],
 "metadata": {
  "kernelspec": {
   "display_name": "dnn_pt",
   "language": "python",
   "name": "python3"
  },
  "language_info": {
   "codemirror_mode": {
    "name": "ipython",
    "version": 3
   },
   "file_extension": ".py",
   "mimetype": "text/x-python",
   "name": "python",
   "nbconvert_exporter": "python",
   "pygments_lexer": "ipython3",
   "version": "3.10.14"
  }
 },
 "nbformat": 4,
 "nbformat_minor": 2
}
