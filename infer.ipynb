{
 "cells": [
  {
   "cell_type": "code",
   "execution_count": 60,
   "metadata": {},
   "outputs": [],
   "source": [
    "import torch\n",
    "import torch.nn as nn\n",
    "from transformers import BertTokenizer, BertModel\n",
    "import os\n",
    "import yaml\n",
    "import json \n",
    "import time"
   ]
  },
  {
   "cell_type": "code",
   "execution_count": 61,
   "metadata": {},
   "outputs": [],
   "source": [
    "####### Config #######\n",
    "config_path = \"Config_1\"\n",
    "config_file = os.path.join(config_path, \"config.yml\")\n",
    "with open(config_file,'r') as conf:\n",
    "    config = yaml.load(conf, Loader=yaml.SafeLoader)\n"
   ]
  },
  {
   "cell_type": "code",
   "execution_count": 62,
   "metadata": {},
   "outputs": [],
   "source": [
    "class AddNorm(nn.Module):\n",
    "    def __init__(self, norm_shape: int, dropout=0.3):\n",
    "        super().__init__()\n",
    "        self.dropout = nn.Dropout(dropout)\n",
    "        self.ln = nn.LayerNorm(norm_shape)\n",
    "\n",
    "    def forward(self, X, Y):\n",
    "        return self.ln(self.dropout(Y) + X)\n",
    "    \n",
    "class FeedForwardNetwork(nn.Module):\n",
    "    def __init__(self, input_dim: int, hidden_ff_dim: int, dropout=0.3):\n",
    "        super().__init__()\n",
    "        self.linear1 = nn.Linear(input_dim, hidden_ff_dim)\n",
    "        self.dropout = nn.Dropout(dropout)\n",
    "        self.linear2 = nn.Linear(hidden_ff_dim, input_dim)\n",
    "\n",
    "    def forward(self, x):\n",
    "        return self.linear2(self.dropout(torch.relu(self.linear1(x))))\n",
    "    \n",
    "class ShrinkNorm(nn.Module):\n",
    "    def __init__(self, input_dim: int, output_dim: int, dropout=0.3):\n",
    "        super().__init__()\n",
    "        self.dropout = nn.Dropout(dropout)\n",
    "        self.linear = nn.Linear(input_dim, output_dim)\n",
    "        self.ln = nn.LayerNorm(output_dim)\n",
    "\n",
    "    def forward(self, x):\n",
    "        return self.ln(self.dropout(self.linear(x)))"
   ]
  },
  {
   "cell_type": "code",
   "execution_count": 63,
   "metadata": {},
   "outputs": [],
   "source": [
    "class SinoVietnameseTranslator(nn.Module):\n",
    "    def __init__(self, tokenizer, base_model, vocab, hidden_ff_dim=512, model_hidden_dim=512, \n",
    "                 large_hidden_classification_head_dim=256, small_hidden_classification_head_dim=128,\n",
    "                 max_num_spellings=7, num_spelling_threshold=3, train_bert_param=True):\n",
    "        super(SinoVietnameseTranslator, self).__init__()\n",
    "        self.tokenizer = tokenizer\n",
    "        self.bert = base_model\n",
    "        self.vocab = vocab\n",
    "        self.max_num_spellings = max_num_spellings\n",
    "        \n",
    "        for param in self.bert.parameters():\n",
    "            param.requires_grad = train_bert_param\n",
    "        \n",
    "        self.shrink_norm = ShrinkNorm(self.bert.config.hidden_size, model_hidden_dim)\n",
    "        self.feed_forward = FeedForwardNetwork(model_hidden_dim, hidden_ff_dim)\n",
    "        self.add_norm = AddNorm(model_hidden_dim)\n",
    "        \n",
    "        self.classification_heads = nn.ModuleDict()\n",
    "        for sino_word, viet_spellings in self.vocab.items():\n",
    "            if len(viet_spellings) > 1 and len(viet_spellings) <= num_spelling_threshold:\n",
    "                num_spellings = len(viet_spellings)\n",
    "                self.classification_heads[sino_word] = nn.Sequential(\n",
    "                    nn.Linear(model_hidden_dim, small_hidden_classification_head_dim),\n",
    "                    nn.ReLU(),\n",
    "                    nn.Dropout(0.3),\n",
    "                    nn.Linear(small_hidden_classification_head_dim, num_spellings),\n",
    "                    nn.Softmax(dim=-1)\n",
    "                )\n",
    "            elif len(viet_spellings) > num_spelling_threshold:\n",
    "                num_spellings = len(viet_spellings)\n",
    "                self.classification_heads[sino_word] = nn.Sequential(\n",
    "                    nn.Linear(model_hidden_dim, large_hidden_classification_head_dim),\n",
    "                    nn.ReLU(),\n",
    "                    nn.Dropout(0.3),\n",
    "                    nn.Linear(large_hidden_classification_head_dim, num_spellings),\n",
    "                    nn.Softmax(dim=-1)\n",
    "                )\n",
    "\n",
    "    def forward(self, input_ids, attention_mask=None):\n",
    "        outputs = self.bert(input_ids, attention_mask=attention_mask)\n",
    "        sequence_output = outputs.last_hidden_state\n",
    "        shrink_output = self.shrink_norm(sequence_output)\n",
    "        projected_output = self.add_norm(shrink_output, self.feed_forward(shrink_output))\n",
    "        \n",
    "        batch_size, max_len = input_ids.size()\n",
    "        predictions = torch.full((batch_size, max_len, self.max_num_spellings), -1.0, device=input_ids.device)\n",
    "        \n",
    "        for i in range(batch_size):\n",
    "            for j in range(max_len):\n",
    "                token_id = input_ids[i, j].item()\n",
    "                if token_id == self.tokenizer.pad_token_id:\n",
    "                    continue\n",
    "                    \n",
    "                sino_word = self.tokenizer.convert_ids_to_tokens(token_id)\n",
    "                \n",
    "                if sino_word in self.classification_heads:\n",
    "                    logits = self.classification_heads[sino_word](projected_output[i, j])\n",
    "                    predictions[i, j, :len(logits)] = logits\n",
    "                else:\n",
    "                    predictions[i, j, 0] = 1.0\n",
    "\n",
    "        return predictions"
   ]
  },
  {
   "cell_type": "code",
   "execution_count": 64,
   "metadata": {},
   "outputs": [],
   "source": [
    "def decode_predictions(predictions, input_ids, tokenizer, vocab):\n",
    "    decoded_sentences = []\n",
    "    for i, predicted_indices in enumerate(predictions):\n",
    "        decoded_sentence = []\n",
    "        for j, spelling_index in enumerate(predicted_indices):\n",
    "            token = input_ids[i, j].item()\n",
    "            if token == tokenizer.pad_token_id:\n",
    "                continue\n",
    "                \n",
    "            sino_word = tokenizer.convert_ids_to_tokens(token)\n",
    "            viet_spelling = vocab[sino_word][spelling_index]\n",
    "            decoded_sentence.append(viet_spelling)\n",
    "\n",
    "        decoded_sentences.append(\" \".join(decoded_sentence))\n",
    "    return \" \".join(decoded_sentences)"
   ]
  },
  {
   "cell_type": "code",
   "execution_count": 65,
   "metadata": {},
   "outputs": [],
   "source": [
    "def split_sentence(sent, max_len=512):\n",
    "    return [sent[i:i + max_len] for i in range(0, len(sent), max_len)]\n",
    "\n",
    "def prepare_input(sent, tokenizer, max_len=512):\n",
    "    chunks = split_sentence(sent, max_len)\n",
    "    \n",
    "    input_ids_chunks = []\n",
    "    attention_mask_chunks = []\n",
    "\n",
    "    for sentence in chunks:\n",
    "        tokens = tokenizer.encode(sentence, add_special_tokens=False, max_length=max_len, truncation=True)\n",
    "        input_ids = tokens + [tokenizer.pad_token_id] * (max_len - len(tokens))\n",
    "        attention_mask = [1] * len(tokens) + [0] * (max_len - len(tokens))\n",
    "\n",
    "        input_ids_chunks.append(input_ids)\n",
    "        attention_mask_chunks.append(attention_mask)\n",
    "\n",
    "    return torch.tensor(input_ids_chunks), torch.tensor(attention_mask_chunks)"
   ]
  },
  {
   "cell_type": "code",
   "execution_count": 66,
   "metadata": {},
   "outputs": [],
   "source": [
    "def infer (sent, model, max_len):\n",
    "    device = torch.device(\"cuda:0\" if torch.cuda.is_available() else \"cpu\")\n",
    "    model.to(device)    \n",
    "\n",
    "    tokenizer = model.tokenizer\n",
    "    vocab = model.vocab\n",
    "\n",
    "    model.eval()\n",
    "    with torch.no_grad():\n",
    "        input_ids, attention_mask = prepare_input(sent=sent, tokenizer=tokenizer, max_len=max_len)\n",
    "        input_ids = input_ids.to(device)\n",
    "        attention_mask = attention_mask.to(device)\n",
    "\n",
    "        outputs = model(input_ids, attention_mask=attention_mask)\n",
    "\n",
    "        predictions = torch.argmax(outputs, dim=-1)\n",
    "\n",
    "        translated_sent = decode_predictions(predictions, input_ids, tokenizer, vocab)\n",
    "    \n",
    "    return translated_sent\n"
   ]
  },
  {
   "cell_type": "code",
   "execution_count": 67,
   "metadata": {},
   "outputs": [
    {
     "data": {
      "text/plain": [
       "Embedding(122331, 768)"
      ]
     },
     "execution_count": 67,
     "metadata": {},
     "output_type": "execute_result"
    }
   ],
   "source": [
    "with open('vocab/vocab.json', 'r') as vocab_file, open('vocab/sino_viet_words.json', 'r') as words_file:\n",
    "    base_vocab = json.load(vocab_file)\n",
    "    sino_viet_words = json.load(words_file)\n",
    "    \n",
    "# Model Config\n",
    "bert_model = config['model_config']['bert_model'] \n",
    "\n",
    "base_tokenizer = BertTokenizer.from_pretrained(bert_model)\n",
    "base_tokenizer.add_tokens(sino_viet_words)\n",
    "\n",
    "base_model = BertModel.from_pretrained(bert_model)\n",
    "base_model.resize_token_embeddings(len(base_tokenizer))"
   ]
  },
  {
   "cell_type": "code",
   "execution_count": 68,
   "metadata": {},
   "outputs": [
    {
     "name": "stdout",
     "output_type": "stream",
     "text": [
      "227333823\n"
     ]
    },
    {
     "data": {
      "text/plain": [
       "<All keys matched successfully>"
      ]
     },
     "execution_count": 68,
     "metadata": {},
     "output_type": "execute_result"
    }
   ],
   "source": [
    "# Model config\n",
    "hidden_ff_dim = config['model_config']['hidden_ff_dim']\n",
    "model_hidden_dim = config['model_config']['model_hidden_dim']\n",
    "large_hidden_classification_head_dim = config['model_config']['large_hidden_classification_head_dim']\n",
    "small_hidden_classification_head_dim = config['model_config']['small_hidden_classification_head_dim']\n",
    "max_num_spellings = config['model_config']['max_num_spellings']\n",
    "num_spelling_threshold = config['model_config']['num_spelling_threshold']\n",
    "train_bert_param = config['model_config']['train_bert_param']\n",
    "\n",
    "model = SinoVietnameseTranslator(base_tokenizer, base_model, base_vocab, \n",
    "                                hidden_ff_dim=hidden_ff_dim, model_hidden_dim=model_hidden_dim,\n",
    "                                large_hidden_classification_head_dim=large_hidden_classification_head_dim,\n",
    "                                small_hidden_classification_head_dim=small_hidden_classification_head_dim,\n",
    "                                max_num_spellings=max_num_spellings, train_bert_param=train_bert_param,\n",
    "                                num_spelling_threshold=num_spelling_threshold)\n",
    "\n",
    "print(sum([param.nelement() for param in model.parameters()]))\n",
    "\n",
    "model_load_path = None if config['training_config']['model_load_path'] == 'None' else config['training_config']['model_load_path']\n",
    "model.load_state_dict(torch.load(model_load_path))"
   ]
  },
  {
   "cell_type": "code",
   "execution_count": 70,
   "metadata": {},
   "outputs": [
    {
     "name": "stdout",
     "output_type": "stream",
     "text": [
      "quân hành chiến bãi sa trường nguyệt sắc hàn thành đầu thiết cổ thanh do chấn hạp lí kim đao huyết vị càn\n",
      "Inference time: 0.3154268264770508 seconds.\n"
     ]
    }
   ],
   "source": [
    "max_len = config['data_config']['max_len']\n",
    "\n",
    "sino_viet_sent = \"軍行戰罷沙場月色寒城頭鐵鼓聲猶震匣裏金刀血未乾\"\n",
    "\n",
    "start_time = time.time()\n",
    "pred_sent = infer(sino_viet_sent, model, max_len)\n",
    "end_time = time.time()\n",
    "duration = end_time - start_time\n",
    "\n",
    "print(pred_sent)\n",
    "print(f\"Inference time: {duration} seconds.\")"
   ]
  }
 ],
 "metadata": {
  "kernelspec": {
   "display_name": "dnn_pt",
   "language": "python",
   "name": "python3"
  },
  "language_info": {
   "codemirror_mode": {
    "name": "ipython",
    "version": 3
   },
   "file_extension": ".py",
   "mimetype": "text/x-python",
   "name": "python",
   "nbconvert_exporter": "python",
   "pygments_lexer": "ipython3",
   "version": "3.10.14"
  }
 },
 "nbformat": 4,
 "nbformat_minor": 2
}
